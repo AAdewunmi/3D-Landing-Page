{
  "nbformat": 4,
  "nbformat_minor": 0,
  "metadata": {
    "colab": {
      "provenance": [],
      "authorship_tag": "ABX9TyO659m/bcOT/+FRqY+amHCH",
      "include_colab_link": true
    },
    "kernelspec": {
      "name": "python3",
      "display_name": "Python 3"
    },
    "language_info": {
      "name": "python"
    }
  },
  "cells": [
    {
      "cell_type": "markdown",
      "metadata": {
        "id": "view-in-github",
        "colab_type": "text"
      },
      "source": [
        "<a href=\"https://colab.research.google.com/github/AAdewunmi/3D-Landing-Page/blob/master/Pan_Card_Tampering_Project.ipynb\" target=\"_parent\"><img src=\"https://colab.research.google.com/assets/colab-badge.svg\" alt=\"Open In Colab\"/></a>"
      ]
    },
    {
      "cell_type": "code",
      "execution_count": null,
      "metadata": {
        "id": "owLjPpGow4sp"
      },
      "outputs": [],
      "source": []
    },
    {
      "cell_type": "markdown",
      "source": [
        "**PAN Card Tampering Detection Project (6 May, 2025)**\n",
        "\n",
        "The purpose of this project is to detect tampering of PAN card using Computer Vision. This project will help different organisations in detecting whether the id i.e. the PAN card provided to them by their employees or customers is original or not.\n",
        "\n",
        "For this project, we will calculate structural similarity of original PAN card uploaded by a user.\n"
      ],
      "metadata": {
        "id": "RvSmuBE80evR"
      }
    },
    {
      "cell_type": "code",
      "source": [
        "# import packages\n",
        "from skimage.metrics import structural_similarity\n",
        "import imutils\n",
        "import cv2\n",
        "from PIL import Image\n",
        "import requests"
      ],
      "metadata": {
        "id": "4d5RVK7j1pXv"
      },
      "execution_count": 1,
      "outputs": []
    },
    {
      "cell_type": "code",
      "source": [
        "!mkdir pan_card_tampering\n",
        "!mkdir pan_card_tampering/image"
      ],
      "metadata": {
        "id": "EYxyukXF3Uwi"
      },
      "execution_count": 2,
      "outputs": []
    },
    {
      "cell_type": "code",
      "source": [
        "# Open image and display\n",
        "original = Image.open(requests.get('https://www.thestatesman.com/wp-content/uploads/2019/07/pan-card.jpg', stream=True).raw)\n",
        "tampered = Image.open(requests.get('https://assets1.cleartax-cdn.com/s/img/20170526124335/Pan4.png', stream=True).raw)"
      ],
      "metadata": {
        "id": "WxAiix3h4Rw3"
      },
      "execution_count": 3,
      "outputs": []
    },
    {
      "cell_type": "markdown",
      "source": [
        "Loading original and user provided images."
      ],
      "metadata": {
        "id": "WyqjqDJxB_ow"
      }
    },
    {
      "cell_type": "code",
      "source": [
        "# The file format of the source file\n",
        "print(\"Original image format : \", original.format)\n",
        "print(\"Tampered image format : \", tampered.format)\n",
        "\n",
        "# Image size, in pixels. The size is given as a 2-tuple (width, height)\n",
        "print(\"Original image size : \", original.size)\n",
        "print(\"Tampered image size : \", tampered.size)"
      ],
      "metadata": {
        "colab": {
          "base_uri": "https://localhost:8080/"
        },
        "id": "JoVucopBCWEu",
        "outputId": "31d73bc1-809a-4ee2-84d5-53961426b407"
      },
      "execution_count": 5,
      "outputs": [
        {
          "output_type": "stream",
          "name": "stdout",
          "text": [
            "Original image format :  JPEG\n",
            "Tampered image format :  PNG\n",
            "Original image size :  (1200, 800)\n",
            "Tampered image size :  (282, 179)\n"
          ]
        }
      ]
    }
  ]
}